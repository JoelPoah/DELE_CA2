{
 "cells": [
  {
   "cell_type": "markdown",
   "metadata": {},
   "source": [
    "# 0. Install and Import dependencies"
   ]
  },
  {
   "cell_type": "code",
   "execution_count": 15,
   "metadata": {},
   "outputs": [
    {
     "name": "stdout",
     "output_type": "stream",
     "text": [
      "Using pip 22.2.2 from c:\\Users\\LG\\.conda\\envs\\gpu_env\\lib\\site-packages\\pip (python 3.8)\n",
      "Requirement already satisfied: stable-baselines3 in c:\\users\\lg\\.conda\\envs\\gpu_env\\lib\\site-packages (1.7.0)\n",
      "Requirement already satisfied: gym==0.21 in c:\\users\\lg\\.conda\\envs\\gpu_env\\lib\\site-packages (from stable-baselines3) (0.21.0)\n",
      "Requirement already satisfied: numpy in c:\\users\\lg\\.conda\\envs\\gpu_env\\lib\\site-packages (from stable-baselines3) (1.23.4)\n",
      "Requirement already satisfied: torch>=1.11 in c:\\users\\lg\\.conda\\envs\\gpu_env\\lib\\site-packages (from stable-baselines3) (1.13.1)\n",
      "Requirement already satisfied: importlib-metadata~=4.13 in c:\\users\\lg\\.conda\\envs\\gpu_env\\lib\\site-packages (from stable-baselines3) (4.13.0)\n",
      "Requirement already satisfied: pandas in c:\\users\\lg\\.conda\\envs\\gpu_env\\lib\\site-packages (from stable-baselines3) (1.4.4)\n",
      "Requirement already satisfied: cloudpickle in c:\\users\\lg\\.conda\\envs\\gpu_env\\lib\\site-packages (from stable-baselines3) (2.2.0)\n",
      "Requirement already satisfied: matplotlib in c:\\users\\lg\\.conda\\envs\\gpu_env\\lib\\site-packages (from stable-baselines3) (3.5.2)\n",
      "Requirement already satisfied: zipp>=0.5 in c:\\users\\lg\\.conda\\envs\\gpu_env\\lib\\site-packages (from importlib-metadata~=4.13->stable-baselines3) (3.10.0)\n",
      "Requirement already satisfied: typing-extensions in c:\\users\\lg\\.conda\\envs\\gpu_env\\lib\\site-packages (from torch>=1.11->stable-baselines3) (4.4.0)\n",
      "Requirement already satisfied: packaging>=20.0 in c:\\users\\lg\\.conda\\envs\\gpu_env\\lib\\site-packages (from matplotlib->stable-baselines3) (21.3)\n",
      "Requirement already satisfied: pyparsing>=2.2.1 in c:\\users\\lg\\.conda\\envs\\gpu_env\\lib\\site-packages (from matplotlib->stable-baselines3) (3.0.9)\n",
      "Requirement already satisfied: python-dateutil>=2.7 in c:\\users\\lg\\.conda\\envs\\gpu_env\\lib\\site-packages (from matplotlib->stable-baselines3) (2.8.2)\n",
      "Requirement already satisfied: kiwisolver>=1.0.1 in c:\\users\\lg\\.conda\\envs\\gpu_env\\lib\\site-packages (from matplotlib->stable-baselines3) (1.4.2)\n",
      "Requirement already satisfied: fonttools>=4.22.0 in c:\\users\\lg\\.conda\\envs\\gpu_env\\lib\\site-packages (from matplotlib->stable-baselines3) (4.25.0)\n",
      "Requirement already satisfied: pillow>=6.2.0 in c:\\users\\lg\\.conda\\envs\\gpu_env\\lib\\site-packages (from matplotlib->stable-baselines3) (9.2.0)\n",
      "Requirement already satisfied: cycler>=0.10 in c:\\users\\lg\\.conda\\envs\\gpu_env\\lib\\site-packages (from matplotlib->stable-baselines3) (0.11.0)\n",
      "Requirement already satisfied: pytz>=2020.1 in c:\\users\\lg\\.conda\\envs\\gpu_env\\lib\\site-packages (from pandas->stable-baselines3) (2022.1)\n",
      "Requirement already satisfied: six>=1.5 in c:\\users\\lg\\.conda\\envs\\gpu_env\\lib\\site-packages (from python-dateutil>=2.7->matplotlib->stable-baselines3) (1.16.0)\n",
      "Note: you may need to restart the kernel to use updated packages.\n"
     ]
    }
   ],
   "source": [
    "pip install stable-baselines3 -v"
   ]
  },
  {
   "cell_type": "code",
   "execution_count": 16,
   "metadata": {},
   "outputs": [],
   "source": [
    "# import gym\n",
    "\n",
    "# from stable_baselines3 import A2C\n",
    "# from stable_baselines3.common.env_util import make_vec_env\n",
    "\n",
    "# # Parallel environments\n",
    "# env = make_vec_env(\"CartPole-v1\", n_envs=4)\n",
    "\n",
    "# model = A2C(\"MlpPolicy\", env, verbose=1)\n",
    "# model.learn(total_timesteps=25000)\n",
    "# model.save(\"a2c_cartpole\")\n",
    "\n",
    "# del model # remove to demonstrate saving and loading\n",
    "\n",
    "# model = A2C.load(\"a2c_cartpole\")\n",
    "\n",
    "# obs = env.reset()\n",
    "# while True:\n",
    "#     action, _states = model.predict(obs)\n",
    "#     obs, rewards, dones, info = env.step(action)\n",
    "#     env.render()"
   ]
  },
  {
   "cell_type": "code",
   "execution_count": 17,
   "metadata": {},
   "outputs": [],
   "source": [
    "# Gym stuff\n",
    "import gym\n",
    "import gym_anytrading\n",
    "\n",
    "# Stable baselines - rl stuff\n",
    "# from stable_baselines.common.vec_env import DummyVecEnv\n",
    "# from stable_baselines3 import A2C\n",
    "from stable_baselines3 import A2C\n",
    "from stable_baselines3.common.env_util import make_vec_env\n",
    "# Processing libraries\n",
    "import numpy as np\n",
    "import pandas as pd\n",
    "from matplotlib import pyplot as plt"
   ]
  },
  {
   "cell_type": "markdown",
   "metadata": {},
   "source": [
    "# 1. Bring in Marketwatch GME Data \n",
    "https://www.marketwatch.com/investing/stock/gme/download-data?startDate=11/1/2019&endDate=03/12/2021"
   ]
  },
  {
   "cell_type": "code",
   "execution_count": 18,
   "metadata": {},
   "outputs": [],
   "source": [
    "df = pd.read_csv('data/gmedata.csv')"
   ]
  },
  {
   "cell_type": "code",
   "execution_count": 19,
   "metadata": {},
   "outputs": [
    {
     "data": {
      "text/html": [
       "<div>\n",
       "<style scoped>\n",
       "    .dataframe tbody tr th:only-of-type {\n",
       "        vertical-align: middle;\n",
       "    }\n",
       "\n",
       "    .dataframe tbody tr th {\n",
       "        vertical-align: top;\n",
       "    }\n",
       "\n",
       "    .dataframe thead th {\n",
       "        text-align: right;\n",
       "    }\n",
       "</style>\n",
       "<table border=\"1\" class=\"dataframe\">\n",
       "  <thead>\n",
       "    <tr style=\"text-align: right;\">\n",
       "      <th></th>\n",
       "      <th>Date</th>\n",
       "      <th>Open</th>\n",
       "      <th>High</th>\n",
       "      <th>Low</th>\n",
       "      <th>Close</th>\n",
       "      <th>Volume</th>\n",
       "    </tr>\n",
       "  </thead>\n",
       "  <tbody>\n",
       "    <tr>\n",
       "      <th>0</th>\n",
       "      <td>03/12/2021</td>\n",
       "      <td>275.00</td>\n",
       "      <td>295.50</td>\n",
       "      <td>262.27</td>\n",
       "      <td>264.5</td>\n",
       "      <td>25,845,900</td>\n",
       "    </tr>\n",
       "    <tr>\n",
       "      <th>1</th>\n",
       "      <td>03/11/2021</td>\n",
       "      <td>241.64</td>\n",
       "      <td>281.50</td>\n",
       "      <td>232.60</td>\n",
       "      <td>260.0</td>\n",
       "      <td>28,312,490</td>\n",
       "    </tr>\n",
       "    <tr>\n",
       "      <th>2</th>\n",
       "      <td>03/10/2021</td>\n",
       "      <td>269.43</td>\n",
       "      <td>348.50</td>\n",
       "      <td>172.00</td>\n",
       "      <td>265.0</td>\n",
       "      <td>71,570,570</td>\n",
       "    </tr>\n",
       "    <tr>\n",
       "      <th>3</th>\n",
       "      <td>03/09/2021</td>\n",
       "      <td>217.71</td>\n",
       "      <td>249.85</td>\n",
       "      <td>208.51</td>\n",
       "      <td>246.9</td>\n",
       "      <td>39,099,328</td>\n",
       "    </tr>\n",
       "    <tr>\n",
       "      <th>4</th>\n",
       "      <td>03/08/2021</td>\n",
       "      <td>154.89</td>\n",
       "      <td>210.87</td>\n",
       "      <td>146.10</td>\n",
       "      <td>194.5</td>\n",
       "      <td>63,565,621</td>\n",
       "    </tr>\n",
       "  </tbody>\n",
       "</table>\n",
       "</div>"
      ],
      "text/plain": [
       "         Date    Open    High     Low  Close      Volume\n",
       "0  03/12/2021  275.00  295.50  262.27  264.5  25,845,900\n",
       "1  03/11/2021  241.64  281.50  232.60  260.0  28,312,490\n",
       "2  03/10/2021  269.43  348.50  172.00  265.0  71,570,570\n",
       "3  03/09/2021  217.71  249.85  208.51  246.9  39,099,328\n",
       "4  03/08/2021  154.89  210.87  146.10  194.5  63,565,621"
      ]
     },
     "execution_count": 19,
     "metadata": {},
     "output_type": "execute_result"
    }
   ],
   "source": [
    "df.head()"
   ]
  },
  {
   "cell_type": "code",
   "execution_count": 20,
   "metadata": {},
   "outputs": [
    {
     "data": {
      "text/plain": [
       "Date      datetime64[ns]\n",
       "Open             float64\n",
       "High             float64\n",
       "Low              float64\n",
       "Close            float64\n",
       "Volume            object\n",
       "dtype: object"
      ]
     },
     "execution_count": 20,
     "metadata": {},
     "output_type": "execute_result"
    }
   ],
   "source": [
    "df['Date'] = pd.to_datetime(df['Date'])\n",
    "df.dtypes"
   ]
  },
  {
   "cell_type": "code",
   "execution_count": 21,
   "metadata": {},
   "outputs": [
    {
     "data": {
      "text/html": [
       "<div>\n",
       "<style scoped>\n",
       "    .dataframe tbody tr th:only-of-type {\n",
       "        vertical-align: middle;\n",
       "    }\n",
       "\n",
       "    .dataframe tbody tr th {\n",
       "        vertical-align: top;\n",
       "    }\n",
       "\n",
       "    .dataframe thead th {\n",
       "        text-align: right;\n",
       "    }\n",
       "</style>\n",
       "<table border=\"1\" class=\"dataframe\">\n",
       "  <thead>\n",
       "    <tr style=\"text-align: right;\">\n",
       "      <th></th>\n",
       "      <th>Open</th>\n",
       "      <th>High</th>\n",
       "      <th>Low</th>\n",
       "      <th>Close</th>\n",
       "      <th>Volume</th>\n",
       "    </tr>\n",
       "    <tr>\n",
       "      <th>Date</th>\n",
       "      <th></th>\n",
       "      <th></th>\n",
       "      <th></th>\n",
       "      <th></th>\n",
       "      <th></th>\n",
       "    </tr>\n",
       "  </thead>\n",
       "  <tbody>\n",
       "    <tr>\n",
       "      <th>2021-03-12</th>\n",
       "      <td>275.00</td>\n",
       "      <td>295.50</td>\n",
       "      <td>262.27</td>\n",
       "      <td>264.5</td>\n",
       "      <td>25,845,900</td>\n",
       "    </tr>\n",
       "    <tr>\n",
       "      <th>2021-03-11</th>\n",
       "      <td>241.64</td>\n",
       "      <td>281.50</td>\n",
       "      <td>232.60</td>\n",
       "      <td>260.0</td>\n",
       "      <td>28,312,490</td>\n",
       "    </tr>\n",
       "    <tr>\n",
       "      <th>2021-03-10</th>\n",
       "      <td>269.43</td>\n",
       "      <td>348.50</td>\n",
       "      <td>172.00</td>\n",
       "      <td>265.0</td>\n",
       "      <td>71,570,570</td>\n",
       "    </tr>\n",
       "    <tr>\n",
       "      <th>2021-03-09</th>\n",
       "      <td>217.71</td>\n",
       "      <td>249.85</td>\n",
       "      <td>208.51</td>\n",
       "      <td>246.9</td>\n",
       "      <td>39,099,328</td>\n",
       "    </tr>\n",
       "    <tr>\n",
       "      <th>2021-03-08</th>\n",
       "      <td>154.89</td>\n",
       "      <td>210.87</td>\n",
       "      <td>146.10</td>\n",
       "      <td>194.5</td>\n",
       "      <td>63,565,621</td>\n",
       "    </tr>\n",
       "  </tbody>\n",
       "</table>\n",
       "</div>"
      ],
      "text/plain": [
       "              Open    High     Low  Close      Volume\n",
       "Date                                                 \n",
       "2021-03-12  275.00  295.50  262.27  264.5  25,845,900\n",
       "2021-03-11  241.64  281.50  232.60  260.0  28,312,490\n",
       "2021-03-10  269.43  348.50  172.00  265.0  71,570,570\n",
       "2021-03-09  217.71  249.85  208.51  246.9  39,099,328\n",
       "2021-03-08  154.89  210.87  146.10  194.5  63,565,621"
      ]
     },
     "execution_count": 21,
     "metadata": {},
     "output_type": "execute_result"
    }
   ],
   "source": [
    "df.set_index('Date', inplace=True)\n",
    "df.head()"
   ]
  },
  {
   "cell_type": "code",
   "execution_count": 22,
   "metadata": {},
   "outputs": [],
   "source": [
    "env = gym.make('stocks-v0', df=df, frame_bound=(5,100), window_size=5)"
   ]
  },
  {
   "cell_type": "code",
   "execution_count": 23,
   "metadata": {
    "scrolled": true
   },
   "outputs": [
    {
     "data": {
      "text/plain": [
       "array([[ 2.6450e+02,  0.0000e+00],\n",
       "       [ 2.6000e+02, -4.5000e+00],\n",
       "       [ 2.6500e+02,  5.0000e+00],\n",
       "       [ 2.4690e+02, -1.8100e+01],\n",
       "       [ 1.9450e+02, -5.2400e+01],\n",
       "       [ 1.3774e+02, -5.6760e+01],\n",
       "       [ 1.3235e+02, -5.3900e+00],\n",
       "       [ 1.2418e+02, -8.1700e+00],\n",
       "       [ 1.1818e+02, -6.0000e+00],\n",
       "       [ 1.2040e+02,  2.2200e+00],\n",
       "       [ 1.0174e+02, -1.8660e+01],\n",
       "       [ 1.0873e+02,  6.9900e+00],\n",
       "       [ 9.1710e+01, -1.7020e+01],\n",
       "       [ 4.4970e+01, -4.6740e+01],\n",
       "       [ 4.6000e+01,  1.0300e+00],\n",
       "       [ 4.0590e+01, -5.4100e+00],\n",
       "       [ 4.0690e+01,  1.0000e-01],\n",
       "       [ 4.5940e+01,  5.2500e+00],\n",
       "       [ 4.9510e+01,  3.5700e+00],\n",
       "       [ 5.2400e+01,  2.8900e+00],\n",
       "       [ 5.1100e+01, -1.3000e+00],\n",
       "       [ 5.1200e+01,  1.0000e-01],\n",
       "       [ 5.0310e+01, -8.9000e-01],\n",
       "       [ 6.0000e+01,  9.6900e+00],\n",
       "       [ 6.3770e+01,  3.7700e+00],\n",
       "       [ 5.3500e+01, -1.0270e+01],\n",
       "       [ 9.2410e+01,  3.8910e+01],\n",
       "       [ 9.0000e+01, -2.4100e+00],\n",
       "       [ 2.2500e+02,  1.3500e+02],\n",
       "       [ 3.2500e+02,  1.0000e+02],\n",
       "       [ 1.9360e+02, -1.3140e+02],\n",
       "       [ 3.4751e+02,  1.5391e+02],\n",
       "       [ 1.4798e+02, -1.9953e+02],\n",
       "       [ 7.6790e+01, -7.1190e+01],\n",
       "       [ 6.5010e+01, -1.1780e+01],\n",
       "       [ 4.3030e+01, -2.1980e+01],\n",
       "       [ 3.9120e+01, -3.9100e+00],\n",
       "       [ 3.9360e+01,  2.4000e-01],\n",
       "       [ 3.5500e+01, -3.8600e+00],\n",
       "       [ 3.9910e+01,  4.4100e+00],\n",
       "       [ 3.1400e+01, -8.5100e+00],\n",
       "       [ 1.9950e+01, -1.1450e+01],\n",
       "       [ 1.9940e+01, -1.0000e-02],\n",
       "       [ 1.7690e+01, -2.2500e+00],\n",
       "       [ 1.8080e+01,  3.9000e-01],\n",
       "       [ 1.8360e+01,  2.8000e-01],\n",
       "       [ 1.7370e+01, -9.9000e-01],\n",
       "       [ 1.7250e+01, -1.2000e-01],\n",
       "       [ 1.8840e+01,  1.5900e+00],\n",
       "       [ 1.9260e+01,  4.2000e-01],\n",
       "       [ 1.9380e+01,  1.2000e-01],\n",
       "       [ 2.0990e+01,  1.6100e+00],\n",
       "       [ 2.0150e+01, -8.4000e-01],\n",
       "       [ 2.0570e+01,  4.2000e-01],\n",
       "       [ 1.9460e+01, -1.1100e+00],\n",
       "       [ 1.5530e+01, -3.9300e+00],\n",
       "       [ 1.5630e+01,  1.0000e-01],\n",
       "       [ 1.4830e+01, -8.0000e-01],\n",
       "       [ 1.3850e+01, -9.8000e-01],\n",
       "       [ 1.3850e+01,  0.0000e+00],\n",
       "       [ 1.2720e+01, -1.1300e+00],\n",
       "       [ 1.3310e+01,  5.9000e-01],\n",
       "       [ 1.4120e+01,  8.1000e-01],\n",
       "       [ 1.3660e+01, -4.6000e-01],\n",
       "       [ 1.6940e+01,  3.2800e+00],\n",
       "       [ 1.6350e+01, -5.9000e-01],\n",
       "       [ 1.6900e+01,  5.5000e-01],\n",
       "       [ 1.6120e+01, -7.8000e-01],\n",
       "       [ 1.6580e+01,  4.6000e-01],\n",
       "       [ 1.5800e+01, -7.8000e-01],\n",
       "       [ 1.6560e+01,  7.6000e-01],\n",
       "       [ 1.6080e+01, -4.8000e-01],\n",
       "       [ 1.4750e+01, -1.3300e+00],\n",
       "       [ 1.3670e+01, -1.0800e+00],\n",
       "       [ 1.3900e+01,  2.3000e-01],\n",
       "       [ 1.2710e+01, -1.1900e+00],\n",
       "       [ 1.2460e+01, -2.5000e-01],\n",
       "       [ 1.1570e+01, -8.9000e-01],\n",
       "       [ 1.1630e+01,  6.0000e-02],\n",
       "       [ 1.2060e+01,  4.3000e-01],\n",
       "       [ 1.1010e+01, -1.0500e+00],\n",
       "       [ 1.1130e+01,  1.2000e-01],\n",
       "       [ 1.1750e+01,  6.2000e-01],\n",
       "       [ 1.1100e+01, -6.5000e-01],\n",
       "       [ 1.1490e+01,  3.9000e-01],\n",
       "       [ 1.1860e+01,  3.7000e-01],\n",
       "       [ 1.1450e+01, -4.1000e-01],\n",
       "       [ 1.0910e+01, -5.4000e-01],\n",
       "       [ 1.1570e+01,  6.6000e-01],\n",
       "       [ 1.0750e+01, -8.2000e-01],\n",
       "       [ 1.0470e+01, -2.8000e-01],\n",
       "       [ 1.1730e+01,  1.2600e+00],\n",
       "       [ 1.1820e+01,  9.0000e-02],\n",
       "       [ 1.2690e+01,  8.7000e-01],\n",
       "       [ 1.3450e+01,  7.6000e-01],\n",
       "       [ 1.5000e+01,  1.5500e+00],\n",
       "       [ 1.4910e+01, -9.0000e-02],\n",
       "       [ 1.4100e+01, -8.1000e-01],\n",
       "       [ 1.3860e+01, -2.4000e-01],\n",
       "       [ 1.3910e+01,  5.0000e-02]])"
      ]
     },
     "execution_count": 23,
     "metadata": {},
     "output_type": "execute_result"
    }
   ],
   "source": [
    "env.signal_features"
   ]
  },
  {
   "cell_type": "markdown",
   "metadata": {},
   "source": [
    "# 2. Build Environment"
   ]
  },
  {
   "cell_type": "code",
   "execution_count": 24,
   "metadata": {},
   "outputs": [
    {
     "data": {
      "text/plain": [
       "Discrete(2)"
      ]
     },
     "execution_count": 24,
     "metadata": {},
     "output_type": "execute_result"
    }
   ],
   "source": [
    "env.action_space"
   ]
  },
  {
   "cell_type": "code",
   "execution_count": 25,
   "metadata": {},
   "outputs": [
    {
     "name": "stdout",
     "output_type": "stream",
     "text": [
      "info {'total_reward': -13.199999999999994, 'total_profit': 0.5346069608249816, 'position': 0}\n"
     ]
    },
    {
     "ename": "",
     "evalue": "",
     "output_type": "error",
     "traceback": [
      "\u001b[1;31mCanceled future for execute_request message before replies were done"
     ]
    },
    {
     "ename": "",
     "evalue": "",
     "output_type": "error",
     "traceback": [
      "\u001b[1;31mThe Kernel crashed while executing code in the the current cell or a previous cell. Please review the code in the cell(s) to identify a possible cause of the failure. Click <a href='https://aka.ms/vscodeJupyterKernelCrash'>here</a> for more info. View Jupyter <a href='command:jupyter.viewOutput'>log</a> for further details."
     ]
    }
   ],
   "source": [
    "state = env.reset()\n",
    "while True: \n",
    "    action = env.action_space.sample()\n",
    "    n_state, reward,done, info = env.step(action)\n",
    "    if done: \n",
    "        print(\"info\", info)\n",
    "        break\n",
    "        \n",
    "plt.figure(figsize=(15,6))\n",
    "plt.cla()\n",
    "env.render_all()\n",
    "plt.show()"
   ]
  },
  {
   "cell_type": "markdown",
   "metadata": {},
   "source": [
    "# 3. Build Environment and Train"
   ]
  },
  {
   "cell_type": "code",
   "execution_count": null,
   "metadata": {},
   "outputs": [],
   "source": [
    "env_maker = lambda: gym.make('stocks-v0', df=df, frame_bound=(5,100), window_size=5)\n",
    "env = make_vec_env(env_maker)"
   ]
  },
  {
   "cell_type": "code",
   "execution_count": null,
   "metadata": {
    "scrolled": true
   },
   "outputs": [
    {
     "ename": "ValueError",
     "evalue": "Policy MlpLstmPolicy unknown",
     "output_type": "error",
     "traceback": [
      "\u001b[1;31m---------------------------------------------------------------------------\u001b[0m",
      "\u001b[1;31mValueError\u001b[0m                                Traceback (most recent call last)",
      "Cell \u001b[1;32mIn [13], line 1\u001b[0m\n\u001b[1;32m----> 1\u001b[0m model \u001b[39m=\u001b[39m A2C(\u001b[39m'\u001b[39;49m\u001b[39mMlpLstmPolicy\u001b[39;49m\u001b[39m'\u001b[39;49m, env, verbose\u001b[39m=\u001b[39;49m\u001b[39m1\u001b[39;49m) \n\u001b[0;32m      2\u001b[0m model\u001b[39m.\u001b[39mlearn(total_timesteps\u001b[39m=\u001b[39m\u001b[39m1000000\u001b[39m)\n",
      "File \u001b[1;32mc:\\Users\\LG\\.conda\\envs\\gpu_env\\lib\\site-packages\\stable_baselines3\\a2c\\a2c.py:85\u001b[0m, in \u001b[0;36mA2C.__init__\u001b[1;34m(self, policy, env, learning_rate, n_steps, gamma, gae_lambda, ent_coef, vf_coef, max_grad_norm, rms_prop_eps, use_rms_prop, use_sde, sde_sample_freq, normalize_advantage, tensorboard_log, policy_kwargs, verbose, seed, device, _init_setup_model)\u001b[0m\n\u001b[0;32m     61\u001b[0m \u001b[39mdef\u001b[39;00m \u001b[39m__init__\u001b[39m(\n\u001b[0;32m     62\u001b[0m     \u001b[39mself\u001b[39m,\n\u001b[0;32m     63\u001b[0m     policy: Union[\u001b[39mstr\u001b[39m, Type[ActorCriticPolicy]],\n\u001b[1;32m   (...)\u001b[0m\n\u001b[0;32m     82\u001b[0m     _init_setup_model: \u001b[39mbool\u001b[39m \u001b[39m=\u001b[39m \u001b[39mTrue\u001b[39;00m,\n\u001b[0;32m     83\u001b[0m ):\n\u001b[1;32m---> 85\u001b[0m     \u001b[39msuper\u001b[39;49m()\u001b[39m.\u001b[39;49m\u001b[39m__init__\u001b[39;49m(\n\u001b[0;32m     86\u001b[0m         policy,\n\u001b[0;32m     87\u001b[0m         env,\n\u001b[0;32m     88\u001b[0m         learning_rate\u001b[39m=\u001b[39;49mlearning_rate,\n\u001b[0;32m     89\u001b[0m         n_steps\u001b[39m=\u001b[39;49mn_steps,\n\u001b[0;32m     90\u001b[0m         gamma\u001b[39m=\u001b[39;49mgamma,\n\u001b[0;32m     91\u001b[0m         gae_lambda\u001b[39m=\u001b[39;49mgae_lambda,\n\u001b[0;32m     92\u001b[0m         ent_coef\u001b[39m=\u001b[39;49ment_coef,\n\u001b[0;32m     93\u001b[0m         vf_coef\u001b[39m=\u001b[39;49mvf_coef,\n\u001b[0;32m     94\u001b[0m         max_grad_norm\u001b[39m=\u001b[39;49mmax_grad_norm,\n\u001b[0;32m     95\u001b[0m         use_sde\u001b[39m=\u001b[39;49muse_sde,\n\u001b[0;32m     96\u001b[0m         sde_sample_freq\u001b[39m=\u001b[39;49msde_sample_freq,\n\u001b[0;32m     97\u001b[0m         tensorboard_log\u001b[39m=\u001b[39;49mtensorboard_log,\n\u001b[0;32m     98\u001b[0m         policy_kwargs\u001b[39m=\u001b[39;49mpolicy_kwargs,\n\u001b[0;32m     99\u001b[0m         verbose\u001b[39m=\u001b[39;49mverbose,\n\u001b[0;32m    100\u001b[0m         device\u001b[39m=\u001b[39;49mdevice,\n\u001b[0;32m    101\u001b[0m         seed\u001b[39m=\u001b[39;49mseed,\n\u001b[0;32m    102\u001b[0m         _init_setup_model\u001b[39m=\u001b[39;49m\u001b[39mFalse\u001b[39;49;00m,\n\u001b[0;32m    103\u001b[0m         supported_action_spaces\u001b[39m=\u001b[39;49m(\n\u001b[0;32m    104\u001b[0m             spaces\u001b[39m.\u001b[39;49mBox,\n\u001b[0;32m    105\u001b[0m             spaces\u001b[39m.\u001b[39;49mDiscrete,\n\u001b[0;32m    106\u001b[0m             spaces\u001b[39m.\u001b[39;49mMultiDiscrete,\n\u001b[0;32m    107\u001b[0m             spaces\u001b[39m.\u001b[39;49mMultiBinary,\n\u001b[0;32m    108\u001b[0m         ),\n\u001b[0;32m    109\u001b[0m     )\n\u001b[0;32m    111\u001b[0m     \u001b[39mself\u001b[39m\u001b[39m.\u001b[39mnormalize_advantage \u001b[39m=\u001b[39m normalize_advantage\n\u001b[0;32m    113\u001b[0m     \u001b[39m# Update optimizer inside the policy if we want to use RMSProp\u001b[39;00m\n\u001b[0;32m    114\u001b[0m     \u001b[39m# (original implementation) rather than Adam\u001b[39;00m\n",
      "File \u001b[1;32mc:\\Users\\LG\\.conda\\envs\\gpu_env\\lib\\site-packages\\stable_baselines3\\common\\on_policy_algorithm.py:76\u001b[0m, in \u001b[0;36mOnPolicyAlgorithm.__init__\u001b[1;34m(self, policy, env, learning_rate, n_steps, gamma, gae_lambda, ent_coef, vf_coef, max_grad_norm, use_sde, sde_sample_freq, tensorboard_log, monitor_wrapper, policy_kwargs, verbose, seed, device, _init_setup_model, supported_action_spaces)\u001b[0m\n\u001b[0;32m     53\u001b[0m \u001b[39mdef\u001b[39;00m \u001b[39m__init__\u001b[39m(\n\u001b[0;32m     54\u001b[0m     \u001b[39mself\u001b[39m,\n\u001b[0;32m     55\u001b[0m     policy: Union[\u001b[39mstr\u001b[39m, Type[ActorCriticPolicy]],\n\u001b[1;32m   (...)\u001b[0m\n\u001b[0;32m     73\u001b[0m     supported_action_spaces: Optional[Tuple[spaces\u001b[39m.\u001b[39mSpace, \u001b[39m.\u001b[39m\u001b[39m.\u001b[39m\u001b[39m.\u001b[39m]] \u001b[39m=\u001b[39m \u001b[39mNone\u001b[39;00m,\n\u001b[0;32m     74\u001b[0m ):\n\u001b[1;32m---> 76\u001b[0m     \u001b[39msuper\u001b[39;49m()\u001b[39m.\u001b[39;49m\u001b[39m__init__\u001b[39;49m(\n\u001b[0;32m     77\u001b[0m         policy\u001b[39m=\u001b[39;49mpolicy,\n\u001b[0;32m     78\u001b[0m         env\u001b[39m=\u001b[39;49menv,\n\u001b[0;32m     79\u001b[0m         learning_rate\u001b[39m=\u001b[39;49mlearning_rate,\n\u001b[0;32m     80\u001b[0m         policy_kwargs\u001b[39m=\u001b[39;49mpolicy_kwargs,\n\u001b[0;32m     81\u001b[0m         verbose\u001b[39m=\u001b[39;49mverbose,\n\u001b[0;32m     82\u001b[0m         device\u001b[39m=\u001b[39;49mdevice,\n\u001b[0;32m     83\u001b[0m         use_sde\u001b[39m=\u001b[39;49muse_sde,\n\u001b[0;32m     84\u001b[0m         sde_sample_freq\u001b[39m=\u001b[39;49msde_sample_freq,\n\u001b[0;32m     85\u001b[0m         support_multi_env\u001b[39m=\u001b[39;49m\u001b[39mTrue\u001b[39;49;00m,\n\u001b[0;32m     86\u001b[0m         seed\u001b[39m=\u001b[39;49mseed,\n\u001b[0;32m     87\u001b[0m         tensorboard_log\u001b[39m=\u001b[39;49mtensorboard_log,\n\u001b[0;32m     88\u001b[0m         supported_action_spaces\u001b[39m=\u001b[39;49msupported_action_spaces,\n\u001b[0;32m     89\u001b[0m     )\n\u001b[0;32m     91\u001b[0m     \u001b[39mself\u001b[39m\u001b[39m.\u001b[39mn_steps \u001b[39m=\u001b[39m n_steps\n\u001b[0;32m     92\u001b[0m     \u001b[39mself\u001b[39m\u001b[39m.\u001b[39mgamma \u001b[39m=\u001b[39m gamma\n",
      "File \u001b[1;32mc:\\Users\\LG\\.conda\\envs\\gpu_env\\lib\\site-packages\\stable_baselines3\\common\\base_class.py:108\u001b[0m, in \u001b[0;36mBaseAlgorithm.__init__\u001b[1;34m(self, policy, env, learning_rate, policy_kwargs, tensorboard_log, verbose, device, support_multi_env, monitor_wrapper, seed, use_sde, sde_sample_freq, supported_action_spaces)\u001b[0m\n\u001b[0;32m     91\u001b[0m \u001b[39mdef\u001b[39;00m \u001b[39m__init__\u001b[39m(\n\u001b[0;32m     92\u001b[0m     \u001b[39mself\u001b[39m,\n\u001b[0;32m     93\u001b[0m     policy: Union[\u001b[39mstr\u001b[39m, Type[BasePolicy]],\n\u001b[1;32m   (...)\u001b[0m\n\u001b[0;32m    105\u001b[0m     supported_action_spaces: Optional[Tuple[spaces\u001b[39m.\u001b[39mSpace, \u001b[39m.\u001b[39m\u001b[39m.\u001b[39m\u001b[39m.\u001b[39m]] \u001b[39m=\u001b[39m \u001b[39mNone\u001b[39;00m,\n\u001b[0;32m    106\u001b[0m ):\n\u001b[0;32m    107\u001b[0m     \u001b[39mif\u001b[39;00m \u001b[39misinstance\u001b[39m(policy, \u001b[39mstr\u001b[39m):\n\u001b[1;32m--> 108\u001b[0m         \u001b[39mself\u001b[39m\u001b[39m.\u001b[39mpolicy_class \u001b[39m=\u001b[39m \u001b[39mself\u001b[39;49m\u001b[39m.\u001b[39;49m_get_policy_from_name(policy)\n\u001b[0;32m    109\u001b[0m     \u001b[39melse\u001b[39;00m:\n\u001b[0;32m    110\u001b[0m         \u001b[39mself\u001b[39m\u001b[39m.\u001b[39mpolicy_class \u001b[39m=\u001b[39m policy\n",
      "File \u001b[1;32mc:\\Users\\LG\\.conda\\envs\\gpu_env\\lib\\site-packages\\stable_baselines3\\common\\base_class.py:324\u001b[0m, in \u001b[0;36mBaseAlgorithm._get_policy_from_name\u001b[1;34m(self, policy_name)\u001b[0m\n\u001b[0;32m    322\u001b[0m     \u001b[39mreturn\u001b[39;00m \u001b[39mself\u001b[39m\u001b[39m.\u001b[39mpolicy_aliases[policy_name]\n\u001b[0;32m    323\u001b[0m \u001b[39melse\u001b[39;00m:\n\u001b[1;32m--> 324\u001b[0m     \u001b[39mraise\u001b[39;00m \u001b[39mValueError\u001b[39;00m(\u001b[39mf\u001b[39m\u001b[39m\"\u001b[39m\u001b[39mPolicy \u001b[39m\u001b[39m{\u001b[39;00mpolicy_name\u001b[39m}\u001b[39;00m\u001b[39m unknown\u001b[39m\u001b[39m\"\u001b[39m)\n",
      "\u001b[1;31mValueError\u001b[0m: Policy MlpLstmPolicy unknown"
     ]
    }
   ],
   "source": [
    "model = A2C('MlpLstmPolicy', env, verbose=1) \n",
    "model.learn(total_timesteps=1000000)"
   ]
  },
  {
   "cell_type": "markdown",
   "metadata": {},
   "source": [
    "# 4. Evaluation"
   ]
  },
  {
   "cell_type": "code",
   "execution_count": null,
   "metadata": {},
   "outputs": [
    {
     "name": "stdout",
     "output_type": "stream",
     "text": [
      "info {'total_reward': 1.8100000000000023, 'total_profit': 1.0550400909748883, 'position': 1}\n"
     ]
    }
   ],
   "source": [
    "env = gym.make('stocks-v0', df=df, frame_bound=(90,110), window_size=5)\n",
    "obs = env.reset()\n",
    "while True: \n",
    "    obs = obs[np.newaxis, ...]\n",
    "    action, _states = model.predict(obs)\n",
    "    obs, rewards, done, info = env.step(action)\n",
    "    if done:\n",
    "        print(\"info\", info)\n",
    "        break"
   ]
  },
  {
   "cell_type": "code",
   "execution_count": null,
   "metadata": {},
   "outputs": [
    {
     "data": {
      "image/png": "[encoded data removed]",
      "text/plain": [
       "<Figure size 1080x432 with 1 Axes>"
      ]
     },
     "metadata": {
      "needs_background": "light"
     },
     "output_type": "display_data"
    }
   ],
   "source": [
    "plt.figure(figsize=(15,6))\n",
    "plt.cla()\n",
    "env.render_all()\n",
    "plt.show()"
   ]
  },
  {
   "cell_type": "code",
   "execution_count": null,
   "metadata": {},
   "outputs": [],
   "source": []
  }
 ],
 "metadata": {
  "kernelspec": {
   "display_name": "gpu_env",
   "language": "python",
   "name": "python3"
  },
  "language_info": {
   "codemirror_mode": {
    "name": "ipython",
    "version": 3
   },
   "file_extension": ".py",
   "mimetype": "text/x-python",
   "name": "python",
   "nbconvert_exporter": "python",
   "pygments_lexer": "ipython3",
   "version": "3.8.13"
  },
  "vscode": {
   "interpreter": {
    "hash": "7be89cafe156eeb38bc0fd9260fac01b40a1b8168704394d7ee38fe03ea6e8a6"
   }
  }
 },
 "nbformat": 4,
 "nbformat_minor": 2
}
